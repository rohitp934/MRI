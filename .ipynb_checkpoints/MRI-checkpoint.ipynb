{
 "cells": [
  {
   "cell_type": "code",
   "execution_count": 1,
   "metadata": {},
   "outputs": [
    {
     "name": "stderr",
     "output_type": "stream",
     "text": [
      "Using TensorFlow backend.\n"
     ]
    }
   ],
   "source": [
    "import keras\n",
    "from keras.models import Sequential\n",
    "from keras.layers import Convolution2D\n",
    "from keras.layers import MaxPooling2D\n",
    "from keras.layers import Flatten\n",
    "from keras.layers import Dense"
   ]
  },
  {
   "cell_type": "code",
   "execution_count": 2,
   "metadata": {},
   "outputs": [
    {
     "name": "stderr",
     "output_type": "stream",
     "text": [
      "WARNING: Logging before flag parsing goes to stderr.\n",
      "W0824 22:42:10.011130 28064 deprecation_wrapper.py:119] From C:\\Users\\Rohit\\Anaconda3\\envs\\deeplearn\\lib\\site-packages\\keras\\backend\\tensorflow_backend.py:66: The name tf.get_default_graph is deprecated. Please use tf.compat.v1.get_default_graph instead.\n",
      "\n"
     ]
    }
   ],
   "source": [
    "#Initialize the CNN\n",
    "model = Sequential()"
   ]
  },
  {
   "cell_type": "code",
   "execution_count": 5,
   "metadata": {},
   "outputs": [
    {
     "name": "stderr",
     "output_type": "stream",
     "text": [
      "C:\\Users\\Rohit\\Anaconda3\\envs\\deeplearn\\lib\\site-packages\\ipykernel_launcher.py:2: UserWarning: Update your `Conv2D` call to the Keras 2 API: `Conv2D(32, (3, 3), input_shape=(200, 200), activation=\"relu\")`\n",
      "  \n"
     ]
    }
   ],
   "source": [
    "#Convolution\n",
    "model.add(Convolution2D(32,3,3,input_shape = (200,200), activation = 'relu'))"
   ]
  },
  {
   "cell_type": "code",
   "execution_count": 6,
   "metadata": {},
   "outputs": [
    {
     "name": "stderr",
     "output_type": "stream",
     "text": [
      "W0824 22:47:28.740006 28064 deprecation_wrapper.py:119] From C:\\Users\\Rohit\\Anaconda3\\envs\\deeplearn\\lib\\site-packages\\keras\\backend\\tensorflow_backend.py:4267: The name tf.nn.max_pool is deprecated. Please use tf.nn.max_pool2d instead.\n",
      "\n"
     ]
    }
   ],
   "source": [
    "#Pooling\n",
    "model.add(MaxPooling2D(pool_size = (2,2)))"
   ]
  },
  {
   "cell_type": "code",
   "execution_count": 7,
   "metadata": {},
   "outputs": [],
   "source": [
    "#Flattening\n",
    "model.add(Flatten())"
   ]
  },
  {
   "cell_type": "code",
   "execution_count": 36,
   "metadata": {},
   "outputs": [],
   "source": [
    "#Full Connection\n",
    "model.add(Dense(128))\n",
    "model.add(Dense(activation = 'sigmoid', units = 1))"
   ]
  },
  {
   "cell_type": "code",
   "execution_count": 37,
   "metadata": {},
   "outputs": [],
   "source": [
    "#Compiling\n",
    "model.compile(optimizer = 'adam', loss = 'binary_crossentropy', metrics = ['accuracy'])"
   ]
  },
  {
   "cell_type": "code",
   "execution_count": 38,
   "metadata": {},
   "outputs": [],
   "source": [
    "from keras.preprocessing.image import ImageDataGenerator"
   ]
  },
  {
   "cell_type": "code",
   "execution_count": 39,
   "metadata": {},
   "outputs": [
    {
     "name": "stdout",
     "output_type": "stream",
     "text": [
      "Found 159 images belonging to 2 classes.\n",
      "Found 66 images belonging to 2 classes.\n"
     ]
    }
   ],
   "source": [
    "train_datagen = ImageDataGenerator(\n",
    "            rescale=1./255,\n",
    "            shear_range=0.2,\n",
    "            zoom_range=0.2,\n",
    "            horizontal_flip=True)\n",
    "\n",
    "test_datagen = ImageDataGenerator(rescale=1./255)\n",
    "\n",
    "training_set = train_datagen.flow_from_directory(\n",
    "            'Data\\Train',\n",
    "            target_size=(200,200),\n",
    "            batch_size=32,\n",
    "            class_mode='binary')\n",
    "\n",
    "test_set = test_datagen.flow_from_directory(\n",
    "            'Data\\Test',\n",
    "            target_size=(200,200),\n",
    "            batch_size=32,\n",
    "            class_mode='binary')"
   ]
  },
  {
   "cell_type": "code",
   "execution_count": 41,
   "metadata": {},
   "outputs": [
    {
     "name": "stdout",
     "output_type": "stream",
     "text": [
      "Epoch 1/8\n",
      "15/15 [==============================] - 27s 2s/step - loss: 0.6771 - acc: 0.5914 - val_loss: 0.6046 - val_acc: 0.7565\n",
      "Epoch 2/8\n",
      "15/15 [==============================] - 26s 2s/step - loss: 0.6769 - acc: 0.5911 - val_loss: 0.6124 - val_acc: 0.7609\n",
      "Epoch 3/8\n",
      "15/15 [==============================] - 26s 2s/step - loss: 0.6765 - acc: 0.5913 - val_loss: 0.6179 - val_acc: 0.7550\n",
      "Epoch 4/8\n",
      "15/15 [==============================] - 27s 2s/step - loss: 0.6765 - acc: 0.5920 - val_loss: 0.6089 - val_acc: 0.7696\n",
      "Epoch 5/8\n",
      "15/15 [==============================] - 29s 2s/step - loss: 0.6764 - acc: 0.5915 - val_loss: 0.6190 - val_acc: 0.7478\n",
      "Epoch 6/8\n",
      "15/15 [==============================] - 27s 2s/step - loss: 0.6766 - acc: 0.5913 - val_loss: 0.6173 - val_acc: 0.7550\n",
      "Epoch 7/8\n",
      "15/15 [==============================] - 27s 2s/step - loss: 0.6767 - acc: 0.5910 - val_loss: 0.6161 - val_acc: 0.7522\n",
      "Epoch 8/8\n",
      "15/15 [==============================] - 27s 2s/step - loss: 0.6765 - acc: 0.5911 - val_loss: 0.6136 - val_acc: 0.7609\n"
     ]
    },
    {
     "data": {
      "text/plain": [
       "<keras.callbacks.History at 0x157915d91c8>"
      ]
     },
     "execution_count": 41,
     "metadata": {},
     "output_type": "execute_result"
    }
   ],
   "source": [
    "from IPython.display import display\n",
    "from PIL import Image\n",
    "\n",
    "model.fit_generator(\n",
    "        training_set,\n",
    "        steps_per_epoch=15,\n",
    "        epochs=8,\n",
    "        validation_data=test_set,\n",
    "        validation_steps=10)"
   ]
  },
  {
   "cell_type": "code",
   "execution_count": 45,
   "metadata": {},
   "outputs": [
    {
     "name": "stdout",
     "output_type": "stream",
     "text": [
      "[[0.5915617]]\n",
      "Yes there is a Haemorrhage\n"
     ]
    }
   ],
   "source": [
    "import numpy as np\n",
    "from keras.preprocessing import image\n",
    "test = image.load_img('Random.jpg', target_size=(200,200))\n",
    "test = image.img_to_array(test)\n",
    "test = np.expand_dims(test,axis=0)\n",
    "result = model.predict(test)\n",
    "training_set.class_indices\n",
    "print(result)\n",
    "if result[0][0] >= 0.5:\n",
    "    prediction = 'Yes there is a Haemorrhage'\n",
    "else:\n",
    "    prediction = 'No there is no Haemorrhage'\n",
    "print(prediction)"
   ]
  },
  {
   "cell_type": "code",
   "execution_count": null,
   "metadata": {},
   "outputs": [],
   "source": []
  }
 ],
 "metadata": {
  "kernelspec": {
   "display_name": "Python 3",
   "language": "python",
   "name": "python3"
  },
  "language_info": {
   "codemirror_mode": {
    "name": "ipython",
    "version": 3
   },
   "file_extension": ".py",
   "mimetype": "text/x-python",
   "name": "python",
   "nbconvert_exporter": "python",
   "pygments_lexer": "ipython3",
   "version": "3.7.4"
  }
 },
 "nbformat": 4,
 "nbformat_minor": 2
}
